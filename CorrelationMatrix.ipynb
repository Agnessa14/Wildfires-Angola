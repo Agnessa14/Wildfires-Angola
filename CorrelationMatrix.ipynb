{
 "cells": [
  {
   "cell_type": "markdown",
   "id": "68853fbd-0fce-4b35-b088-fa7174e16acb",
   "metadata": {
    "tags": []
   },
   "source": [
    "# Angola Wildfires correlations"
   ]
  },
  {
   "cell_type": "code",
   "execution_count": null,
   "id": "6188075f-f5fa-48d1-888f-382f50e7e818",
   "metadata": {
    "tags": []
   },
   "outputs": [],
   "source": [
    "# imports\n",
    "#fires\n",
    "import random\n",
    "import numpy\n",
    "import matplotlib.pyplot as plt\n",
    "import pandas as pd\n",
    "import geopandas as gpd\n",
    "import os\n",
    "import matplotlib\n",
    "import cartopy.crs as ccrs\n",
    "import cartopy.feature as cfeature\n",
    "from shapely.geometry import Polygon, MultiPolygon\n",
    "\n",
    "#precipitation\n",
    "import xarray as xr\n",
    "import pooch\n",
    "import tempfile\n",
    "import s3fs\n",
    "import boto3\n",
    "import botocore\n",
    "import datetime\n",
    "import numpy as np"
   ]
  },
  {
   "cell_type": "markdown",
   "id": "0e441f3a-a277-4caa-9325-9ea57f97aefa",
   "metadata": {
    "tags": []
   },
   "source": [
    "# 1. prepare THE ANGOLA 2020 DATA - wildfires, precipitation, temperature"
   ]
  },
  {
   "cell_type": "markdown",
   "id": "1ef6e10e-9320-42e7-b6cf-3eae43ba4212",
   "metadata": {},
   "source": [
    "## WILDFIRES"
   ]
  },
  {
   "cell_type": "markdown",
   "id": "35fb0333-5fb4-41df-bd1c-f474b8c82a65",
   "metadata": {
    "tags": []
   },
   "source": [
    "### get wildfire data"
   ]
  },
  {
   "cell_type": "code",
   "execution_count": null,
   "id": "92baa302-b5d0-44f0-a8bb-208a7711e010",
   "metadata": {
    "tags": []
   },
   "outputs": [],
   "source": [
    "# code to retrieve and load the data\n",
    "url_climateaction = '/home/jovyan/shared/Data/Projects/Wildfires/ClimateAction_countries.shp'\n",
    "Dataset = gpd.read_file(url_climateaction)  # need to update to OSF and pooch.retrieve"
   ]
  },
  {
   "cell_type": "code",
   "execution_count": null,
   "id": "c3d58724-aa2a-45a5-8c77-e272f32242fd",
   "metadata": {
    "tags": []
   },
   "outputs": [],
   "source": [
    "#angola fires - kamil 14.12.2023\n",
    "Dataset[\"IDate\"] = pd.to_datetime(Dataset[\"IDate\"])\n",
    "Dataset[\"FDate\"] = pd.to_datetime(Dataset[\"FDate\"])\n",
    "# Choose country\n",
    "country = \"Angola\"\n",
    "angolaextent =  (9, 26, -21, -4) #lon,lat\n",
    "angolalongitude=slice(9,26)\n",
    "angolalatitudeR=slice(-4,-21) #reversed order for temperature data\n",
    "angolalatitude=slice(-21,-4) \n",
    "\n",
    "# Define the start month (sm) and end month (em) of the dry period (May-September)\n",
    "year = 2020\n",
    "angolaYear = Dataset[(Dataset[\"name\"] == country) &\n",
    "                        (Dataset[\"IDate\"].dt.year == year) & (Dataset[\"FDate\"].dt.year == year)     ]\n",
    "angola_sorted = angolaYear.sort_values(\"Area_Acres\", ascending = False)\n",
    "#angola_sorted #angola_sorted\n",
    "#angolaYear"
   ]
  },
  {
   "cell_type": "markdown",
   "id": "f44bde7d-a355-4bf0-8843-c888461ea464",
   "metadata": {},
   "source": [
    "### WILDFIRE FUNCTIONS"
   ]
  },
  {
   "cell_type": "code",
   "execution_count": null,
   "id": "5ea83d69-ed63-47d0-9a10-e09c858c38ba",
   "metadata": {
    "tags": []
   },
   "outputs": [],
   "source": [
    "# Function to update min and max from coordinates\n",
    "def update_min_max(coords, lon_min, lon_max, lat_min, lat_max):\n",
    "    #global lon_min, lat_min, lon_max, lat_max\n",
    "    for x, y in coords:\n",
    "        lon_min = min(lon_min, round(x,2))\n",
    "        lat_min = min(lat_min, round(y,2))\n",
    "        lon_max = max(lon_max, round(x,2))\n",
    "        lat_max = max(lat_max, round(y,2))      \n",
    "    return lon_min, lon_max, lat_min, lat_max\n",
    "\n",
    "#find the fire's size (rectangle with max and min longitude and latitude) from the its geometry polygon\n",
    "def find_fire_rect(FireData):\n",
    "    # Initialize max and min values\n",
    "    lon_min, lat_min= float('inf'), float('inf')\n",
    "    lon_max, lat_max= float('-inf'), float('-inf')\n",
    "    # List to store all coordinates\n",
    "    all_coords = []\n",
    "        \n",
    "    for multipolygon in FireData[\"geometry\"]:\n",
    "        if isinstance(multipolygon, MultiPolygon):\n",
    "            for polygon in multipolygon.geoms: #the geometry can contain Multypolygon\n",
    "                # Update min and max from exterior\n",
    "                lon_min, lon_max, lat_min, lat_max = update_min_max(polygon.exterior.coords, lon_min, lon_max, lat_min, lat_max)\n",
    "\n",
    "                # Update min and max from interiors\n",
    "                for interior in polygon.interiors: #the geometry can contain just Polygon\n",
    "                    lon_min, lon_max, lat_min, lat_max = update_min_max(interior.coords, lon_min, lon_max, lat_min, lat_max)\n",
    "        elif isinstance(multipolygon, Polygon):\n",
    "            lon_min, lon_max, lat_min, lat_max = update_min_max(multipolygon.exterior.coords, lon_min, lon_max, lat_min, lat_max)\n",
    "                \n",
    "    return {'lon_min': lon_min, 'lon_max': lon_max, 'lat_min':lat_min, 'lat_max':lat_max} # returns Dictionary"
   ]
  },
  {
   "cell_type": "code",
   "execution_count": null,
   "id": "d84e2f87-5041-487c-86eb-7d42070d6095",
   "metadata": {
    "tags": []
   },
   "outputs": [],
   "source": [
    "def find_fire_dates(FireData):\n",
    "    idate = FireData[\"IDate\"]\n",
    "    fdate = FireData[\"FDate\"]\n",
    "\n",
    "    idatestr = idate.dt.strftime('%Y-%m-%d').iloc[0] #day when the fire started \n",
    "    fdatestr = fdate.dt.strftime('%Y-%m-%d').iloc[0] #day when the fire finished \n",
    "\n",
    "    # our precipitation data are samplet just once in a month - the first day of it\n",
    "    idateMstr = idate.dt.strftime('%Y-%m-01').iloc[0] #month (first day of it) when the fire started \n",
    "    fdateMstr = fdate.dt.strftime('%Y-%m-01').iloc[0] #month (first day of it) when the fire finished \n",
    "    \n",
    "    # Calculate the difference and find the midpoint\n",
    "    midpoint = idate + (fdate - idate) / 2\n",
    "    length = fdate - idate;\n",
    "    # Extract the month    \n",
    "    middle_day = int(midpoint.dt.dayofyear.iloc[0]) \n",
    "    flength = length.dt.days.iloc[0];\n",
    "\n",
    "    return {'idatestr':idatestr,'idateMstr':idateMstr, 'fdatestr':fdatestr, 'fdateMstr':fdateMstr, 'middle_day':middle_day, 'flength':flength}  # returns Dictionary\n"
   ]
  },
  {
   "cell_type": "markdown",
   "id": "fdf7a7da-7591-43e2-9655-2e88bf94477d",
   "metadata": {
    "tags": []
   },
   "source": [
    "## PRECIPITATION CHIRPS"
   ]
  },
  {
   "cell_type": "markdown",
   "id": "c4e7fd82-25e8-463c-b133-c6f4262b178a",
   "metadata": {
    "tags": []
   },
   "source": [
    "### get the precipitation data"
   ]
  },
  {
   "cell_type": "code",
   "execution_count": null,
   "id": "97614168-a8ad-4749-8015-13e565ff3e05",
   "metadata": {
    "tags": []
   },
   "outputs": [],
   "source": [
    "# helper functions for Precipitation\n",
    "\n",
    "def pooch_load(filelocation=None,filename=None,processor=None):\n",
    "    shared_location='/home/jovyan/shared/Data/Projects/Precipitation' # this is different for each day\n",
    "    user_temp_cache=tempfile.gettempdir()\n",
    "    \n",
    "    if os.path.exists(os.path.join(shared_location,filename)):\n",
    "        file = os.path.join(shared_location,filename)\n",
    "    else:\n",
    "        file = pooch.retrieve(filelocation,known_hash=None,fname=os.path.join(user_temp_cache,filename),processor=processor)\n",
    "\n",
    "    return file"
   ]
  },
  {
   "cell_type": "code",
   "execution_count": null,
   "id": "7e1738b9-93d6-4c80-bff9-0846e698501c",
   "metadata": {
    "tags": []
   },
   "outputs": [],
   "source": [
    "# code to retrieve and load the data\n",
    "\n",
    "years=range(2020,2021) # the years you want. we want 1981 till 2023\n",
    "file_paths=['https://data.chc.ucsb.edu/products/CHIRPS-2.0/global_daily/netcdf/p25/chirps-v2.0.'+str(year)+'.days_p25.nc' for year in years] # the format of the files\n",
    "filenames=['chirps-v2.0.'+str(year)+'.days_p25.nc' for year in years] # the format of the files\n",
    "\n",
    "downloaded_files=[ pooch_load(fpath,fname) for (fpath,fname) in zip(file_paths,filenames)] # download all of the files\n",
    "\n",
    "#### open data as xarray\n",
    "chirps_data = xr.open_mfdataset(\n",
    "    downloaded_files, combine=\"by_coords\"\n",
    ")  # open the files as one dataset\n"
   ]
  },
  {
   "cell_type": "code",
   "execution_count": null,
   "id": "24998f9f-5327-4fae-b6cc-75fc835f651f",
   "metadata": {
    "tags": []
   },
   "outputs": [],
   "source": [
    "chirps_data_angola = chirps_data.sel(latitude=angolalatitude, longitude=angolalongitude) #latitude has to be reversed\n",
    "chirps_data_angola"
   ]
  },
  {
   "cell_type": "code",
   "execution_count": null,
   "id": "e4035778-bfad-480f-8bd6-2b9524b140bd",
   "metadata": {
    "tags": []
   },
   "outputs": [],
   "source": [
    "#function to compute the precipitation means for one fire\n",
    "def get_fire_precipitation(chirps_data,rect,firedate):\n",
    "    onefirelat = slice(rect['lat_min'], rect['lat_max']) #longitude slice - must be integers\n",
    "    #if int(onefirelat.start) == int(onefirelat.stop): #for too small files, make the range one unit larger\n",
    "    #    onefirelat=slice(rect['lat_min']-1, rect['lat_max']+1);\n",
    "    #print(onefirelat)\n",
    "    \n",
    "    onefirelon = slice(rect['lon_min'], rect['lon_max']) #longitude slice\n",
    "    #if int(onefirelon.start) == int(onefirelon.stop): #for too small files, make the range one unit larger\n",
    "    #    onefirelon=slice(rect['lon_min']-1, rect['lon_max']+1);\n",
    "    #print(onefirelon)\n",
    "    \n",
    "    onefireextent =  (rect['lon_min'],rect['lon_max'], rect['lat_min'],rect['lat_max']) #lon,lat\n",
    "    timeslice=slice(firedate['idatestr'], firedate['fdatestr'])\n",
    "    \n",
    "    precipFire = chirps_data.sel(latitude=onefirelat, longitude=onefirelon,time=timeslice).precip #select the size of the fire -     \n",
    "    if precipFire.shape[1]==0: #latitude\n",
    "        onefirelat=slice(rect['lat_min']-1, rect['lat_max']+1);\n",
    "    if precipFire.shape[2]==0: #longitude\n",
    "        onefirelon=slice(rect['lon_min']-1, rect['lon_max']+1);    \n",
    "    precipFire = chirps_data.sel(latitude=onefirelat, longitude=onefirelon,time=timeslice).precip #select the size of the fire \n",
    "    \n",
    "    precipFireMeanTime = precipFire.mean(dim=\"time\") #mean over the duration of the fire \n",
    "    precipFireMean = precipFire.mean() #mean over all dimensions; the duration of the fire #dim=\"time\"\n",
    "    precipFireMeanComputed = precipFireMean.compute() #To resolve this, you need to compute the Dask array to get a NumPy array before calling .item().\n",
    "    if pd.isna(precipFireMeanComputed):\n",
    "        print(f\"Longitude from: {rect['lon_min']}, to: {rect['lon_max']}\")\n",
    "        print(onefirelon) \n",
    "        print(f\"Latitude from: {rect['lat_min']}, to: {rect['lat_max']}\")\n",
    "        print(onefirelat)\n",
    "        display(precipFire)\n",
    "        print(precipFire.shape) #'time: 5latitude: 0 longitude: 8\n",
    "    return precipFireMeanComputed.item(), precipFireMeanTime #returns mean value over all dimensions and mean over time"
   ]
  },
  {
   "cell_type": "markdown",
   "id": "69378a2c-883c-4ca4-ab07-1e3d6ec7f271",
   "metadata": {},
   "source": [
    "## Temperature ERA"
   ]
  },
  {
   "cell_type": "markdown",
   "id": "259ba179-d942-4e89-ba9c-db03e8056cef",
   "metadata": {
    "tags": []
   },
   "source": [
    "### get temperature data"
   ]
  },
  {
   "cell_type": "code",
   "execution_count": null,
   "id": "a70a2d82-1847-47a3-ac4c-5cc138e065b0",
   "metadata": {
    "tags": []
   },
   "outputs": [],
   "source": [
    "tempr_path = \"~/shared/Data/Projects/Albedo/ERA/Temperature-003.nc\"\n",
    "ds_tempr = xr.open_dataset(tempr_path)\n",
    "#ds_tempr  # the variable name is t2m (temprature at 2m)"
   ]
  },
  {
   "cell_type": "code",
   "execution_count": null,
   "id": "57d5ca05-e2a5-4ccd-98ac-40cb1032408a",
   "metadata": {
    "tags": []
   },
   "outputs": [],
   "source": [
    "#get Celsius temperature\n",
    "\n",
    "airtemp = ds_tempr.sel(latitude=angolalatitudeR, longitude=angolalongitude) #angola\n",
    "airtemp['t2mC'] = airtemp['t2m'] - 273.15\n",
    "airtemp['t2mC'].attrs['units'] = 'C'\n",
    "airtemp['t2mC'].attrs['long_name'] = '2 metre temperature in C'\n",
    "\n",
    "CTemp = airtemp.t2mC\n",
    "#CTemp\n",
    "\n",
    "#airtemp.sel(time=slice(\"2015-07-01\", \"2015-08-01\")).squeeze()\n",
    "#airtemp.sel(time=\"2015-07-01\").squeeze()"
   ]
  },
  {
   "cell_type": "code",
   "execution_count": null,
   "id": "6b24deff-9c9b-47cc-9733-84c360a126e5",
   "metadata": {
    "tags": []
   },
   "outputs": [],
   "source": [
    "# function to compute mean lai for one fire\n",
    "def get_fire_lai(veg, rect, firedate):\n",
    "    timeslice = slice(firedate['idateMstr'], firedate['fdateMstr'])  # \"2015-07-01\"\n",
    "    onefirelat = slice(rect['lat_max'], rect['lat_min'])  # longitude slice - must be integers #reversed here\n",
    "    onefirelon = slice(rect['lon_min'], rect['lon_max'])  # longitude slice\n",
    "\n",
    "    veg = OneFire['LC_descrip']\n",
    "    if veg.eq(\"Forest\").any():\n",
    "        lai = grib_ds['lai_hv']\n",
    "    else:\n",
    "        lai = grib_ds['lai_lv']\n",
    "\n",
    "    laiFire = lai.sel(time=timeslice, latitude=onefirelat, longitude=onefirelon)  # select the size of the fire\n",
    "    if laiFire.shape[1] == 0:  # latitude\n",
    "        onefirelat = slice(rect['lat_max'] + 1, rect['lat_min'] - 1);\n",
    "    if laiFire.shape[2] == 0:  # longitude\n",
    "        onefirelon = slice(rect['lon_min'] - 1, rect['lon_max'] + 1);\n",
    "    laiFire = lai.sel(time=timeslice, latitude=onefirelat, longitude=onefirelon)  # select the size of the fire\n",
    "\n",
    "    laiFireMeanTime = laiFire.mean(dim=\"time\")\n",
    "    laiFireMean = laiFire.mean()\n",
    "    laiFireMeanComputed = laiFireMean.compute()  # To resolve this, you need to compute the Dask array to get a NumPy array before calling .item().\n",
    "    if pd.isna(laiFireMeanComputed):\n",
    "        print(f\"Longitude from: {rect['lon_min']}, to: {rect['lon_max']}\")\n",
    "        print(onefirelon)\n",
    "        print(f\"Latitude from: {rect['lat_min']}, to: {rect['lat_max']}\")\n",
    "        print(onefirelat)\n",
    "        display(laiFire)\n",
    "    return laiFireMeanComputed.item(), laiFireMeanTime  # returns mean value over all dimensions and mean over time"
   ]
  },
  {
   "cell_type": "code",
   "execution_count": null,
   "id": "ab8ef46e-84f6-48ed-bf60-1f7cf7681793",
   "metadata": {
    "tags": []
   },
   "outputs": [],
   "source": [
    "#function to compute mean temperature for one fire\n",
    "def get_fire_temperature(CTemp,rect,firedate):\n",
    "    timeslice= slice(firedate['idateMstr'], firedate['fdateMstr']) #\"2015-07-01\"\n",
    "    #print(timeslice)\n",
    "    onefirelat = slice(rect['lat_max'], rect['lat_min']) #longitude slice - must be integers #reversed here\n",
    "    #if round(onefirelat.start) == round(onefirelat.stop): #for too small files, make the range one unit larger\n",
    "    #    onefirelat=slice(rect['lat_max']+1, rect['lat_min']-1);\n",
    "    #onefirelat\n",
    "\n",
    "    onefirelon = slice(rect['lon_min'], rect['lon_max']) #longitude slice\n",
    "    #if round(onefirelon.start) == round(onefirelon.stop): #for too small files, make the range one unit larger\n",
    "    #    onefirelon=slice(rect['lon_min']-1, rect['lon_max']+1);\n",
    "           \n",
    "    CTempFire = CTemp.sel(time=timeslice,latitude=onefirelat, longitude=onefirelon) #select the size of the fire     \n",
    "    if CTempFire.shape[1]==0: #latitude\n",
    "        onefirelat=slice(rect['lat_max']+1, rect['lat_min']-1);\n",
    "    if CTempFire.shape[2]==0: #longitude\n",
    "        onefirelon=slice(rect['lon_min']-1, rect['lon_max']+1);\n",
    "    CTempFire = CTemp.sel(time=timeslice,latitude=onefirelat, longitude=onefirelon) #select the size of the fire         \n",
    "    \n",
    "    CTempFireMeanTime = CTempFire.mean(dim=\"time\")\n",
    "    CTempFireMean = CTempFire.mean()\n",
    "    CTempFireMeanComputed = CTempFireMean.compute() #To resolve this, you need to compute the Dask array to get a NumPy array before calling .item().\n",
    "    if pd.isna(CTempFireMeanComputed):\n",
    "        print(f\"NaN temperature data for this wildfire \")\n",
    "        print(f\"Longitude from: {rect['lon_min']}, to: {rect['lon_max']}\")\n",
    "        print(onefirelon) \n",
    "        print(f\"Latitude from: {rect['lat_min']}, to: {rect['lat_max']}\")\n",
    "        print(onefirelat)\n",
    "        display(CTempFire)\n",
    "    return CTempFireMeanComputed.item(), CTempFireMeanTime #returns mean value over all dimensions and mean over time"
   ]
  },
  {
   "cell_type": "markdown",
   "id": "62b155d1-5579-476c-9df5-d1f33af8ddc6",
   "metadata": {
    "tags": []
   },
   "source": [
    "## WIND"
   ]
  },
  {
   "cell_type": "code",
   "execution_count": null,
   "id": "6f7bdddc-8dfa-4dc1-90be-babf5f97515c",
   "metadata": {
    "tags": []
   },
   "outputs": [],
   "source": [
    "windgribpath = \"era_data/monthlywind_ang2020.grib\" \n",
    "windgrib_ds = xr.open_dataset(windgribpath, engine='cfgrib')\n",
    "#windgrib_ds"
   ]
  },
  {
   "cell_type": "code",
   "execution_count": null,
   "id": "daab5eca-34fc-4dd4-8b72-795bdf506976",
   "metadata": {
    "tags": []
   },
   "outputs": [],
   "source": [
    "windu = windgrib_ds['u10']\n",
    "windv = windgrib_ds['v10']\n",
    "windsp = np.sqrt(windu**2 + windv**2) #Wind speed\n",
    "winddirection = np.degrees(np.arctan2(windv, windu)) #Wind direction"
   ]
  },
  {
   "cell_type": "code",
   "execution_count": null,
   "id": "75486ab9-cf81-4f32-bc54-b38e72b2ccb1",
   "metadata": {
    "tags": []
   },
   "outputs": [],
   "source": [
    "#function to compute mean lai for one fire\n",
    "def get_fire_windspeed(windsp,rect,firedate):\n",
    "    timeslice= slice(firedate['idateMstr'], firedate['fdateMstr']) #\"2015-07-01\"\n",
    "    onefirelat = slice(rect['lat_max'], rect['lat_min']) #longitude slice - must be integers #reversed here\n",
    "    onefirelon = slice(rect['lon_min'], rect['lon_max']) #longitude slice\n",
    "           \n",
    "    windspFire = windsp.sel(time=timeslice,latitude=onefirelat, longitude=onefirelon) #select the size of the fire     \n",
    "    if windspFire.shape[1]==0: #latitude\n",
    "        onefirelat=slice(rect['lat_max']+1, rect['lat_min']-1);\n",
    "    if windspFire.shape[2]==0: #longitude\n",
    "        onefirelon=slice(rect['lon_min']-1, rect['lon_max']+1);\n",
    "    windspFire = windsp.sel(time=timeslice,latitude=onefirelat, longitude=onefirelon) #select the size of the fire         \n",
    "    \n",
    "    windspFireMeanTime = windspFire.mean(dim=\"time\")\n",
    "    windspFireMean = windspFire.mean()\n",
    "    windspFireMeanComputed = windspFireMean.compute() #To resolve this, you need to compute the Dask array to get a NumPy array before calling .item().\n",
    "    if pd.isna(windspFireMeanComputed):\n",
    "        print(f\"Longitude from: {rect['lon_min']}, to: {rect['lon_max']}\")\n",
    "        print(onefirelon) \n",
    "        print(f\"Latitude from: {rect['lat_min']}, to: {rect['lat_max']}\")\n",
    "        print(onefirelat)\n",
    "        display(windspFire)\n",
    "    return windspFireMeanComputed.item(), windspFireMeanTime #returns mean value over all dimensions and mean over time"
   ]
  },
  {
   "cell_type": "markdown",
   "id": "63204e83-555e-48e7-a3ae-67877648d404",
   "metadata": {},
   "source": [
    "## NDVI and dNBR"
   ]
  },
  {
   "cell_type": "code",
   "execution_count": null,
   "id": "c19b1ba5-0cb0-4721-aedd-dea505358e29",
   "metadata": {
    "tags": []
   },
   "outputs": [],
   "source": [
    "# Load NDVI and DNBR\n",
    "#1. OG\n",
    "#ndvi 1\n",
    "ndvi_pre_forest_1 = np.load('ndvi_pre_og_largest_fires_redone_Forest.npy')\n",
    "ndvi_pre_shrubs_1 = np.load('ndvi_pre_og_largest_fires_redone_Shrubs.npy')\n",
    "ndvi_pre_herb_1 = np.load('ndvi_pre_og_largest_fires_redone_Herbaceous Vegetation.npy')\n",
    "\n",
    "#ndvi 2\n",
    "ndvi_pre_forest_2 = np.load('ndvi_pre_og_largest_fires_redone_pt2Forest.npy')\n",
    "ndvi_pre_shrubs_2 = np.load('ndvi_pre_og_largest_fires_redone_pt2Shrubs.npy')\n",
    "ndvi_pre_herb_2 = np.load('ndvi_pre_og_largest_fires_redone_pt2Herbaceous Vegetation.npy')\n",
    "\n",
    "#ndvi concatenate\n",
    "ndvi_pre_forest = np.hstack((ndvi_pre_forest_1,ndvi_pre_forest_2))\n",
    "print(ndvi_pre_forest.shape)\n",
    "ndvi_pre_shrubs = np.hstack((ndvi_pre_shrubs_1,ndvi_pre_shrubs_2))\n",
    "print(ndvi_pre_shrubs.shape)\n",
    "ndvi_pre_herb = np.hstack((ndvi_pre_herb_1,ndvi_pre_herb_2))\n",
    "print(ndvi_pre_herb.shape)\n",
    "\n",
    "#dnbr 1\n",
    "dnbr_forest_1 = np.load('dnbr_og_largest_fires_redone_Forest.npy')\n",
    "dnbr_shrubs_1 = np.load('dnbr_og_largest_fires_redone_Shrubs.npy')\n",
    "dnbr_herb_1 = np.load('dnbr_og_largest_fires_redone_Herbaceous Vegetation.npy')\n",
    "\n",
    "#dnbr 2\n",
    "dnbr_forest_2 = np.load('dnbr_og_largest_fires_redone_pt2Forest.npy')\n",
    "dnbr_shrubs_2 = np.load('dnbr_og_largest_fires_redone_pt2Shrubs.npy')\n",
    "dnbr_herb_2 = np.load('dnbr_og_largest_fires_redone_pt2Herbaceous Vegetation.npy')\n",
    "\n",
    "#dnbr concatenate\n",
    "dnbr_forest = np.hstack((dnbr_forest_1,dnbr_forest_2))\n",
    "print(dnbr_forest.shape)\n",
    "dnbr_shrubs = np.hstack((dnbr_shrubs_1,dnbr_shrubs_2))\n",
    "print(dnbr_shrubs.shape)\n",
    "dnbr_herb = np.hstack((dnbr_herb_1,dnbr_herb_2))\n",
    "print(dnbr_herb.shape)"
   ]
  },
  {
   "cell_type": "code",
   "execution_count": null,
   "id": "2298eea5-7109-4d9e-83a5-5a773e039188",
   "metadata": {
    "tags": []
   },
   "outputs": [],
   "source": [
    "#2. Remapped\n",
    "ndvi_pre_forest_1_remapped = np.load('ndvi_pre_remapped_largest_fires_redone_Forest.npy')\n",
    "ndvi_pre_shrubs_1_remapped = np.load('ndvi_pre_remapped_largest_fires_redone_Shrubs.npy')\n",
    "ndvi_pre_herb_1_remapped = np.load('ndvi_pre_remapped_largest_fires_redone_Herbaceous Vegetation.npy')\n",
    "\n",
    "#ndvi 2\n",
    "ndvi_pre_forest_2_remapped = np.load('ndvi_pre_remapped_largest_fires_redone_pt2Forest.npy')\n",
    "ndvi_pre_shrubs_2_remapped = np.load('ndvi_pre_remapped_largest_fires_redone_pt2_Shrubs.npy')\n",
    "ndvi_pre_herb_2_remapped = np.load('ndvi_pre_remapped_largest_fires_redone_pt2Herbaceous Vegetation.npy')\n",
    "\n",
    "#ndvi concatenate\n",
    "ndvi_pre_forest_remapped = np.hstack((ndvi_pre_forest_1_remapped,ndvi_pre_forest_2_remapped))\n",
    "print(ndvi_pre_forest_remapped.shape)\n",
    "ndvi_pre_shrubs_remapped = np.hstack((ndvi_pre_shrubs_1_remapped,ndvi_pre_shrubs_2_remapped))\n",
    "print(ndvi_pre_shrubs_remapped.shape)\n",
    "ndvi_pre_herb_remapped = np.hstack((ndvi_pre_herb_1_remapped,ndvi_pre_herb_2_remapped))\n",
    "print(ndvi_pre_herb_remapped.shape)\n",
    "\n",
    "#dnbr 1\n",
    "dnbr_forest_1_remapped = np.load('dnbr_remapped_largest_fires_redone_Forest.npy')\n",
    "dnbr_shrubs_1_remapped = np.load('dnbr_remapped_largest_fires_redone_Shrubs.npy')\n",
    "dnbr_herb_1_remapped = np.load('dnbr_remapped_largest_fires_redone_Herbaceous Vegetation.npy')\n",
    "\n",
    "#dnbr 2\n",
    "dnbr_forest_2_remapped = np.load('dnbr_remapped_largest_fires_redone_pt2Forest.npy')\n",
    "dnbr_shrubs_2_remapped = np.load('dnbr_remapped_largest_fires_redone_pt2Shrubs.npy')\n",
    "dnbr_herb_2_remapped = np.load('dnbr_remapped_largest_fires_redone_pt2Herbaceous Vegetation.npy')\n",
    "\n",
    "#dnbr concatenate\n",
    "dnbr_forest_remapped = np.hstack((dnbr_forest_1_remapped,dnbr_forest_2_remapped))\n",
    "print(dnbr_forest_remapped.shape)\n",
    "dnbr_shrubs_remapped = np.hstack((dnbr_shrubs_1_remapped,dnbr_shrubs_2_remapped))\n",
    "print(dnbr_shrubs_remapped.shape)\n",
    "dnbr_herb_remapped = np.hstack((dnbr_herb_1_remapped,dnbr_herb_2_remapped))\n",
    "print(dnbr_herb_remapped.shape)"
   ]
  },
  {
   "cell_type": "code",
   "execution_count": null,
   "id": "23869d99-7040-4601-ad70-ef6174f960dc",
   "metadata": {
    "tags": []
   },
   "outputs": [],
   "source": [
    "#variables to use \n",
    "ndvi_pre_forest, ndvi_pre_shrubs, ndvi_pre_herb, dnbr_forest, dnbr_shrubs, dnbr_herb\n",
    "ndvi_pre_forest_remapped, ndvi_pre_shrubs_remapped, ndvi_pre_herb_remapped, dnbr_forest_remapped, dnbr_shrubs_remapped, dnbr_herb_remapped"
   ]
  },
  {
   "cell_type": "code",
   "execution_count": null,
   "id": "a2fb6c10-3791-44f3-9908-60efa5e0e631",
   "metadata": {
    "tags": []
   },
   "outputs": [],
   "source": [
    "## Load NDVI and DNBR\n",
    "#ndvi_pre_forest_ = np.load('ndvi_pre_remapped_largest_fires_Forest_good.npy')\n",
    "#ndvi_pre_shrubs = np.load('ndvi_pre_remapped_largest_fires_Shrubs.npy')\n",
    "#ndvi_pre_herb = np.load('ndvi_pre_remapped_largest_fires_Herbaceous Vegetation.npy')\n",
    "\n",
    "#dnbr_forest = np.load('dnbr_remapped_largest_fires_Forest_good.npy')\n",
    "#dnbr_shrubs = np.load('dnbr_remapped_largest_fires_Shrubs.npy')\n",
    "#dnbr_herb = np.load('dnbr_remapped_largest_fires_Herbaceous Vegetation.npy')\n",
    "#ndvi_pre_herb.shape"
   ]
  },
  {
   "cell_type": "markdown",
   "id": "f4d77a61-53e6-4c96-bbed-44f192c35aae",
   "metadata": {},
   "source": [
    "### compute correlations matrix"
   ]
  },
  {
   "cell_type": "code",
   "execution_count": null,
   "id": "de392f74-9a18-47f9-a113-2b83a9a241fa",
   "metadata": {
    "tags": []
   },
   "outputs": [],
   "source": [
    "from scipy.stats import pearsonr\n",
    "\n",
    "def get_correlations(df):\n",
    "    #display(df)\n",
    "    corr=df.corr() \n",
    "    p_values = pd.DataFrame(np.zeros_like(corr), columns=corr.columns, index=corr.index)\n",
    "\n",
    "    nsig = 0\n",
    "    #Calculate p-values for each pair of columns\n",
    "    for col1 in df.columns:\n",
    "        for col2 in df.columns:        \n",
    "            if col1 != col2:\n",
    "                #print(f\"Col1 {col1}, Col2 {col2}\")\n",
    "                p_values.loc[col1, col2] = pearsonr(df[col1], df[col2])[1]\n",
    "                if p_values.loc[col1, col2]>0.05:\n",
    "                    corr.loc[col1, col2]=np.nan\n",
    "                else:\n",
    "                    nsig=nsig+1\n",
    "            else:\n",
    "                corr.loc[col1, col2]=np.nan\n",
    "    return corr,p_values, nsig//2"
   ]
  },
  {
   "cell_type": "markdown",
   "id": "a7624ae5-7d3d-46b9-acdd-0ebadff812fa",
   "metadata": {
    "tags": []
   },
   "source": [
    "# 2. COMPUTE"
   ]
  },
  {
   "cell_type": "markdown",
   "id": "daf76c59-a253-468a-9d8b-f95f72312da8",
   "metadata": {
    "tags": []
   },
   "source": [
    "### select, compute and plot wildfires"
   ]
  },
  {
   "cell_type": "code",
   "execution_count": null,
   "id": "23a9f011-c9dc-4ee5-8c04-7dd4608f94ee",
   "metadata": {
    "tags": []
   },
   "outputs": [],
   "source": [
    "vegetationTypes=['Forest','Shrubs','Herbaceous Vegetation','Agriculture']\n",
    "vegetation = vegetationTypes[1]\n",
    "# Sample 50 fires from 2020 and set a seed for reproducibility\n",
    "\n",
    "selectionType = ['Random','Largest']\n",
    "fireselection=selectionType[1] #random or largest?\n",
    "\n",
    "num_fires = 50\n",
    "\n",
    "#the random selection of wildfires\n",
    "if fireselection=='Random':\n",
    "    angolaYear_vegetation = angolaYear[angolaYear[\"LC_descrip\"] == vegetation]\n",
    "    angolaYear_sample = angolaYear_vegetation.sample(min(num_fires,angolaYear_vegetation.shape[0]), random_state = 42)\n",
    "\n",
    "#lets try the largest wildfires\n",
    "if fireselection=='Largest':\n",
    "    angolaYear_vegetation = angola_sorted[angola_sorted[\"LC_descrip\"] == vegetation] #100 largest fires with this vegetation type\n",
    "    angolaYear_sample = angolaYear_vegetation[0:num_fires]\n",
    "\n",
    "#angolaYearDs = xr.Dataset.from_dataframe(angolaYear_sample)\n",
    "#angolaYear_sample[\"precip\"]=np.nan;\n",
    "#angolaYear_sample[\"t2mC\"]=np.nan;\n",
    "\n",
    "#angolaYear_sample.shape\n",
    "#angolaYear_sample\n",
    "#angola_sorted"
   ]
  },
  {
   "cell_type": "code",
   "execution_count": null,
   "id": "d4d922c1-a814-4ded-83e0-b4651af0e2cf",
   "metadata": {
    "tags": []
   },
   "outputs": [],
   "source": [
    "#create datasets over more types of vegetation\n",
    "vegetationTypes=['Forest','Shrubs','Herbaceous Vegetation'] # , #\n",
    "\n",
    "\n",
    "angolaYear_sample_combined = gpd.GeoDataFrame(columns=angolaYear.columns) #type(angolaYear) - geopandas.geodataframe.GeoDataFrame\n",
    "\n",
    "for vegetation2 in vegetationTypes:\n",
    "    #the random selection of wildfires\n",
    "    if fireselection=='Random':\n",
    "        angolaYear_vegetation = angolaYear[angolaYear[\"LC_descrip\"] == vegetation2]\n",
    "        angolaYear_sample = angolaYear_vegetation.sample(min(num_fires,angolaYear_vegetation.shape[0]), random_state = 42)\n",
    "\n",
    "    #lets try the largest wildfires\n",
    "    if fireselection=='Largest':\n",
    "        angolaYear_vegetation = angola_sorted[angola_sorted[\"LC_descrip\"] == vegetation2] #100 largest fires with this vegetation type\n",
    "        angolaYear_sample = angolaYear_vegetation[0:num_fires]\n",
    "    \n",
    "    angolaYear_sample_combined = pd.concat([angolaYear_sample_combined, angolaYear_sample])\n",
    "    \n",
    "\n",
    "#angolaYearDs = xr.Dataset.from_dataframe(angolaYear_sample)\n",
    "#angolaYear_sample[\"precip\"]=np.nan;\n",
    "#angolaYear_sample[\"t2mC\"]=np.nan;\n",
    "ndvi_combined = np.concatenate((ndvi_pre_forest, ndvi_pre_shrubs, ndvi_pre_herb)) #needs to be same order as in vegetationTypes\n",
    "dnbr_combined = np.concatenate((dnbr_forest, dnbr_shrubs, dnbr_herb)) #needs to be same order as in vegetationTypes\n",
    "\n",
    "print (angolaYear_sample_combined.shape, ndvi_combined.shape)\n"
   ]
  },
  {
   "cell_type": "code",
   "execution_count": null,
   "id": "b808cea7-feb2-4e39-818f-ee0382a5a63e",
   "metadata": {
    "tags": []
   },
   "outputs": [],
   "source": [
    "combined = False #we want combined correlations\n",
    "if combined:\n",
    "    angolaYear_sample = angolaYear_sample_combined\n",
    "    vegetation = 'Combined'\n",
    "combined    "
   ]
  },
  {
   "cell_type": "code",
   "execution_count": null,
   "id": "958004f7-f91a-4482-9f0f-46d38b90d1da",
   "metadata": {
    "tags": []
   },
   "outputs": [],
   "source": [
    "gribpath = os.path.expanduser(\"~/shared-public/Jintasaurus_Skip_Energico/era_data/monthlylai_ang2020.grib\")\n",
    "grib_ds = xr.open_dataset(gribpath, engine='cfgrib')"
   ]
  },
  {
   "cell_type": "code",
   "execution_count": null,
   "id": "0a1ff679-46e4-4bc5-8393-4404e654c4d3",
   "metadata": {
    "tags": []
   },
   "outputs": [],
   "source": [
    "#iterate over all fires in the sample\n",
    "precipvals = []\n",
    "tempvals = []\n",
    "rectvals = []\n",
    "laivals = []\n",
    "windspvals = []\n",
    "middledays = []\n",
    "firelengths = []\n",
    "for j in range(len(angolaYear_sample)):\n",
    "    OneFire = angolaYear_sample[j:j+1]\n",
    "    rect = find_fire_rect(OneFire)    \n",
    "    firedate = find_fire_dates(OneFire)\n",
    "    #print(f\"Fire from: {firedate['idatestr']} {firedate['idateMstr']}, to: {firedate['fdatestr']} {firedate['fdateMstr']}\")\n",
    "    precipFireMean, precipFireTime = get_fire_precipitation(chirps_data,rect,firedate)\n",
    "    CTempFireMean, _ = get_fire_temperature(CTemp,rect,firedate)\n",
    "    laiFireMean, _ = get_fire_lai(vegetation,rect,firedate)\n",
    "    windspFireMean, _ = get_fire_windspeed(windsp,rect,firedate)\n",
    "    rectvals.append(rect)\n",
    "    precipvals.append(precipFireMean)\n",
    "    tempvals.append(CTempFireMean)\n",
    "    laivals.append(laiFireMean)\n",
    "    windspvals.append(windspFireMean)\n",
    "    middledays.append(firedate['middle_day'])    \n",
    "    firelengths.append(firedate['flength'])    \n",
    "    \n",
    "#add these computed values to the pandas dataframe of selected wildfires    \n",
    "angolaYear_sample['precip'] = precipvals\n",
    "angolaYear_sample['t2mC']=tempvals\n",
    "angolaYear_sample['rectangle']=rectvals\n",
    "angolaYear_sample['lai']=laivals\n",
    "angolaYear_sample['windspeed']=windspvals\n",
    "angolaYear_sample['middleday']=middledays\n",
    "angolaYear_sample['firelength']=firelengths\n",
    "\n",
    "if combined: #if we want combined correlations\n",
    "    angolaYear_sample['ndvi'] = ndvi_combined\n",
    "    angolaYear_sample['dnbr'] = dnbr_combined\n",
    "elif vegetation == 'Forest':\n",
    "    angolaYear_sample['ndvi'] = ndvi_pre_forest\n",
    "    angolaYear_sample['dnbr'] = dnbr_forest\n",
    "elif vegetation == 'Shrubs':\n",
    "    angolaYear_sample['ndvi'] = ndvi_pre_shrubs\n",
    "    angolaYear_sample['dnbr'] = dnbr_shrubs   \n",
    "elif vegetation == 'Herbaceous Vegetation':\n",
    "    angolaYear_sample['ndvi'] = ndvi_pre_herb\n",
    "    angolaYear_sample['dnbr'] = dnbr_herb\n",
    "\n",
    "angolaYear_sample.shape\n",
    "#precipFireMeanTime\n"
   ]
  },
  {
   "cell_type": "code",
   "execution_count": null,
   "id": "4bb2a1e4-ecd3-4a57-8e1e-88240aaa298f",
   "metadata": {
    "tags": []
   },
   "outputs": [],
   "source": [
    "import math\n",
    "\n",
    "#TODO  - add month of the year, add vegetation type\n",
    "\n",
    "#create new dataframe for only the to be correlated variables \n",
    "df=pd.DataFrame({\"dNBR\":angolaYear_sample['dnbr'], \"Burnt Area\":angolaYear_sample['Area_Acres'],\"Fire Duration\":angolaYear_sample['firelength'], \"Pre-fire NDVI\":angolaYear_sample['ndvi'], \n",
    "                 \"Temperature\":angolaYear_sample['t2mC'],\"Precipitation\":angolaYear_sample['precip'],\n",
    "                 \"Wind Speed\":angolaYear_sample['windspeed'], \"Day of Year\":angolaYear_sample['middleday'],\n",
    "                 }) #,\"LeafAreaIndex\":angolaYear_sample['lai']\n",
    "df.dropna(subset=['Temperature'], inplace=True) # drop rows containig the NaN values in temperature\n",
    "df.dropna(subset=['Wind Speed'], inplace=True) # drop rows containig the NaN values in windspeed\n",
    "df.dropna(subset=['Pre-fire NDVI'], inplace=True) # drop rows containig the NaN values in ndvi\n",
    "df.dropna(subset=['dNBR'], inplace=True) # drop rows containig the NaN values in dnbr\n",
    "print(df.shape)\n",
    "corr,p_values,nsig = get_correlations(df)\n",
    "#display(df)\n",
    "print(corr.shape, p_values.shape)\n",
    "\n",
    "NN = df.shape[1] * (df.shape[1]-1) / 2 #number of plots\n",
    "cols = int(math.sqrt(nsig)+1)  #plot just the significant scatteplots\n",
    "rows = round(math.sqrt(nsig))\n",
    "print (str(NN) + ' ' + str(nsig) + ' ' + str(cols) + ' '+ str(rows))\n",
    "#plot the matrix of scatterplots for all of them\n",
    "fig, axs = plt.subplots(nrows=rows, ncols=cols, figsize=(16, 12.5)) # df.shape[1]\n",
    "fig.suptitle(f\"Vegetation: {vegetation}    Wildfires: {fireselection} \")\n",
    "n = 0 #current number of plot\n",
    "for index1, column_name1 in enumerate(df.columns[0:df.shape[1]-1]):        \n",
    "    for index2, column_name2 in enumerate(df.columns[index1+1:df.shape[1]]):  \n",
    "        if column_name2 == 'Burnt Area' or column_name2 == 'Fire Duration' or column_name2 == 'Pre-fire NDVI':\n",
    "            if p_values.iloc[index1, index1+index2+1]<0.05:\n",
    "                c = n % cols #column number\n",
    "                r = n // cols #row number\n",
    "                n=n+1\n",
    "                df.plot(ax=axs[r,c], kind='scatter', x=column_name2, y=column_name1, fontsize=12)            \n",
    "# plt.savefig('figures/scatterplots_'+vegetation+'_'+fireselection+'.svg')\n",
    "\n",
    "#p_values"
   ]
  },
  {
   "cell_type": "code",
   "execution_count": null,
   "id": "f2933ff5-7615-464a-be7a-b98089d1b65c",
   "metadata": {
    "tags": []
   },
   "outputs": [],
   "source": [
    "import math\n",
    "\n",
    "vegetation = 'Forest'\n",
    "\n",
    "#create new dataframe for only the to be correlated variables \n",
    "df=pd.DataFrame({\"dNBR\":angolaYear_sample['dnbr'], \"Burnt Area\":angolaYear_sample['Area_Acres'],\"Fire Duration\":angolaYear_sample['firelength'], \"Pre-fire NDVI\":angolaYear_sample['ndvi'], \n",
    "                 \"Temperature\":angolaYear_sample['t2mC'],\"Precipitation\":angolaYear_sample['precip'],\n",
    "                 \"Wind Speed\":angolaYear_sample['windspeed'], \"Day of Year\":angolaYear_sample['middleday'],\n",
    "                 }) #,\"LeafAreaIndex\":angolaYear_sample['lai']\n",
    "df.dropna(subset=['Temperature'], inplace=True) # drop rows containig the NaN values in temperature\n",
    "df.dropna(subset=['Wind Speed'], inplace=True) # drop rows containig the NaN values in windspeed\n",
    "df.dropna(subset=['Pre-fire NDVI'], inplace=True) # drop rows containig the NaN values in ndvi\n",
    "df.dropna(subset=['dNBR'], inplace=True) # drop rows containig the NaN values in dnbr\n",
    "print(df.shape)\n",
    "corr,p_values,nsig = get_correlations(df)\n",
    "#display(df)\n",
    "print(corr.shape, p_values.shape)\n",
    "\n",
    "NN = df.shape[1] * (df.shape[1]-1) / 2 #number of plots\n",
    "cols = int(math.sqrt(nsig)+1)  #plot just the significant scatteplots\n",
    "rows = round(math.sqrt(nsig))\n",
    "print (str(NN) + ' ' + str(nsig) + ' ' + str(cols) + ' '+ str(rows))\n",
    "#plot the matrix of scatterplots for all of them\n",
    "\n",
    "#plot 1\n",
    "fig, ax = plt.subplots() # df.shape[1]\n",
    "column_name1 = 'Burnt Area'\n",
    "column_name2 = 'Fire Duration'\n",
    "df.plot(ax=ax, kind='scatter', x=column_name2, y=column_name1)  \n",
    "ax.set_title('Vegetation: Forest',fontsize=12)\n",
    "ax.set_xlabel('Fire Duration (Days)', fontsize=12)\n",
    "ax.set_ylabel('Burnt Area (Acres)', fontsize=12)\n",
    "plt.savefig('figures/scatterplots_'+vegetation+'_'+fireselection+'_redone_plot1.png')\n",
    "\n",
    "#plot 2\n",
    "fig, ax = plt.subplots() # df.shape[1]\n",
    "column_name1 = 'dNBR'\n",
    "column_name2 = 'Burnt Area'\n",
    "df.plot(ax=ax, kind='scatter', x=column_name2, y=column_name1)  \n",
    "ax.set_title('Vegetation: Forest',fontsize=12)\n",
    "ax.set_xlabel('Burnt Area (Acres)', fontsize=12)\n",
    "ax.set_ylabel('dNBR', fontsize=12)\n",
    "plt.savefig('figures/scatterplots_'+vegetation+'_'+fireselection+'_redone_plot2.png')\n",
    "\n",
    "#plot 3\n",
    "fig, ax = plt.subplots() # df.shape[1]\n",
    "column_name1 = 'dNBR'\n",
    "column_name2 = 'Pre-fire NDVI'\n",
    "df.plot(ax=ax, kind='scatter', x=column_name2, y=column_name1)  \n",
    "ax.set_title('Vegetation: Forest',fontsize=12)\n",
    "ax.set_xlabel('Pre-fire NDVI', fontsize=12)\n",
    "ax.set_ylabel('dNBR', fontsize=12)\n",
    "plt.savefig('figures/scatterplots_'+vegetation+'_'+fireselection+'_redone_plot3.png')\n"
   ]
  },
  {
   "cell_type": "code",
   "execution_count": null,
   "id": "878da9f2-150f-42fd-8f48-2283ac053148",
   "metadata": {
    "tags": []
   },
   "outputs": [],
   "source": [
    "#plot the statistics of the correlations for the \n",
    "#now plotting only significant correlations\n",
    "vegetation_all = ['Forest', 'Shrubs', 'Herbaceous Vegetation']\n",
    "\n",
    "for v in vegetation_all:\n",
    "\n",
    "    import seaborn as sns\n",
    "\n",
    "    df = df.drop('Day of Year', axis=1,errors='ignore')\n",
    "    corr,p_values,nsig = get_correlations(df)\n",
    "    fig, ax = plt.subplots(nrows=1, ncols=1,figsize=(10, 8))# \n",
    "    fig.suptitle(f\"Vegetation: {v}\", fontsize=16) #    Wildfires: {fireselection}\n",
    "    ax_s=sns.heatmap(corr,annot=False, cmap=\"PiYG\", vmin=-0.7, vmax=0.7) #\n",
    "    ax_s.figure.axes[-1].axes.set_ylabel('Pearson''s R',size=16)\n",
    "    ax_s.figure.axes[-1].tick_params(labelsize=16)\n",
    "\n",
    "\n",
    "    \n",
    "    # Increase the size of labels on both x-axis and y-axis\n",
    "    ax.set_xticklabels(ax.get_xticklabels(), fontsize=16)  # Adjust the fontsize as per your preference\n",
    "    ax.set_yticklabels(ax.get_yticklabels(), fontsize=16)  # Adjust the fontsize as per your preference\n",
    "\n",
    "    # Update the heatmap labels with correlation coefficients and p-values\n",
    "    for i in range(corr.shape[0]):\n",
    "        for j in range(corr.shape[1]):\n",
    "            if i != j and p_values.iloc[i, j]<0.05:            \n",
    "                corrtxt = '{:.2f}'.format(corr.iloc[i, j]) + ';\\np=' + '{:.2f}'.format(p_values.iloc[i, j])\n",
    "                ax.text(j+0.5, i+0.5, corrtxt, ha='center', va='center', fontsize=16, color='black')\n",
    "    plt.subplots_adjust(bottom=0.15)\n",
    "    plt.savefig('figures/correlations_'+v+'_'+fireselection+'_redone.svg',dpi=300, bbox_inches = \"tight\")\n"
   ]
  },
  {
   "cell_type": "markdown",
   "id": "de28407f-06d3-4fd1-b442-502b800cb937",
   "metadata": {},
   "source": [
    "# PLOT individual fires"
   ]
  },
  {
   "cell_type": "code",
   "execution_count": null,
   "id": "20e546a1-8f6a-4e09-8b69-c1af91d441f2",
   "metadata": {
    "tags": []
   },
   "outputs": [],
   "source": [
    "# Function to format the text to show counts\n",
    "def absolute_value(val):\n",
    "    a = int(round(val/100.*vegetation_counts.sum()))\n",
    "    return a\n",
    "\n",
    "color_dict = {    \n",
    "    'Forest':  'darkgreen',\n",
    "    'Herbaceous Vegetation':  'salmon',\n",
    "    'Shrubs': 'cornflowerblue',\n",
    "    'Agriculture': 'gold',\n",
    "    'Herbaceous Wetland': 'purple'\n",
    "}\n",
    "\n",
    "# Create a custom color map\n",
    "aYu = ['Forest', 'Herbaceous Vegetation', 'Shrubs', 'Agriculture', 'Herbaceous Wetland']# aYuangolaYear['LC_descrip'].unique()\n",
    "mycmap = matplotlib.colors.ListedColormap([color_dict[x] for x in aYu])\n",
    "\n",
    "vegetation_counts = angolaYear['LC_descrip'].value_counts()\n",
    "# Create a pie chart\n",
    "vegetation_counts.plot(kind='pie', autopct=absolute_value, cmap=mycmap) #'%1.1f%%'\n",
    "\n",
    "# Optional: Set the aspect ratio to be equal, so the pie is drawn as a circle.\n",
    "plt.axis('equal')\n",
    "vegetation_counts\n",
    "plt.savefig('figures/piechart.svg')\n",
    "plt.savefig('figures/piechart.png',dpi=300,bbox_inches = \"tight\")"
   ]
  },
  {
   "cell_type": "code",
   "execution_count": null,
   "id": "d0deaeba-5128-47b8-bbd2-e2e63f198a6f",
   "metadata": {
    "tags": []
   },
   "outputs": [],
   "source": [
    "#gdf = gpd.GeoDataFrame(angolaYear_sample_combined, geometry=angolaYear_sample_combined['geometry'])\n",
    "\n",
    "# Define a color for each category\n",
    "color_dict = {    \n",
    "    'Forest':  'darkgreen',\n",
    "    'Herbaceous Vegetation':  'salmon',\n",
    "    'Shrubs': 'cornflowerblue',\n",
    "}\n",
    "\n",
    "# Create a custom color map\n",
    "aYu = ['Forest', 'Herbaceous Vegetation', 'Shrubs']# angolaYear['LC_descrip'].unique()\n",
    "mycmap = matplotlib.colors.ListedColormap([color_dict[x] for x in aYu])\n",
    "\n",
    "# Plot the sample dataset\n",
    "crs = ccrs.PlateCarree()\n",
    "fig, axis = plt.subplots(\n",
    "    ncols=1, nrows=1, figsize=[12, 6], subplot_kw={\"projection\":crs}\n",
    ")\n",
    "\n",
    "axis.set_extent(angolaextent,crs = crs) #limit the figure to the Angola size\n",
    "angolaYear_sample_combined.plot(column='LC_descrip', legend=True,cmap=mycmap, ax=axis) #before cmap='OrRd'\n",
    "legend = axis.get_legend()\n",
    "legend.set_bbox_to_anchor((0.75, 0.18)) \n",
    "\n",
    "axis.gridlines(draw_labels=True, crs = crs)\n",
    "axis.coastlines()\n",
    "axis.add_feature(cfeature.BORDERS, edgecolor='blue')\n",
    "if fireselection =='Largest':\n",
    "    axis.set_title('50 largest wildfires in Angola (2020)')\n",
    "plt.savefig('figures/firemap_'+fireselection+'.svg')\n",
    "plt.savefig('figures/firemap_'+fireselection+'.png',dpi=300,bbox_inches = \"tight\")"
   ]
  },
  {
   "cell_type": "code",
   "execution_count": null,
   "id": "7ed4437c-eaa8-48f6-b0a7-65195d1f47b2",
   "metadata": {
    "tags": []
   },
   "outputs": [],
   "source": [
    "OneFire = angola_sorted[1:2]\n",
    "#compute fire rectangle and dates\n",
    "rect = find_fire_rect(OneFire)\n",
    "print(f\"Longitude from: {rect['lon_min']}, to: {rect['lon_max']}\")\n",
    "print(f\"Latitude from : {rect['lat_min']}, Maximum y: {rect['lat_max']}\")  \n",
    "\n",
    "firedate = find_fire_dates(OneFire)\n",
    "print(f\"Fire from: {firedate['idatestr']} {firedate['idateMstr']}, to: {firedate['fdatestr']} {firedate['fdateMstr']}\")\n",
    "\n",
    "precipFireMean, precipFireMeanTime = get_fire_precipitation(chirps_data,rect,firedate)\n",
    "CTempFireMean, CTempFireMeanTime = get_fire_temperature(CTemp,rect,firedate)"
   ]
  },
  {
   "cell_type": "code",
   "execution_count": null,
   "id": "27b9ab7b-6d74-4a7c-8208-ac1e4a774a84",
   "metadata": {
    "tags": []
   },
   "outputs": [],
   "source": [
    "# plot the fire in OneFire variable\n",
    "\n",
    "#crs = ccrs.Robinson() #does not work here for gridlines\n",
    "crs = ccrs.PlateCarree()\n",
    "fig, axis = plt.subplots(\n",
    "    ncols=1, nrows=1, figsize=[12, 6], subplot_kw={\"projection\":crs}\n",
    ")\n",
    "\n",
    "axis.set_extent(angolaextent,crs = crs) #limit the figure to the Angola size\n",
    "OneFire.plot(ax = axis, color = \"red\") #plot the selected fire\n",
    "axis.gridlines(draw_labels=True, crs = crs)\n",
    "axis.coastlines()\n",
    "axis.add_feature(cfeature.BORDERS, edgecolor='blue')\n",
    "\n",
    "axis.set_title(\"Selected wildfire of 2020 in Angola\")\n",
    "#plt.show()\n",
    "plt.savefig('figures/firePolygon.svg')"
   ]
  },
  {
   "cell_type": "markdown",
   "id": "e02cc0cf-bd23-4eed-9c0d-3eb9f71a324d",
   "metadata": {},
   "source": [
    "### plot precipitation"
   ]
  },
  {
   "cell_type": "code",
   "execution_count": null,
   "id": "e57ccbba-7396-4d6d-ae1f-392f24da84ae",
   "metadata": {
    "tags": []
   },
   "outputs": [],
   "source": [
    "#precipitation\n",
    "_, precipFireMean = get_fire_precipitation(chirps_data,rect,firedate)\n",
    "\n",
    "crs = ccrs.PlateCarree()\n",
    "\n",
    "fig, axis = plt.subplots(\n",
    "    ncols=1, nrows=1, figsize=[12, 6], subplot_kw={\"projection\": crs}\n",
    ")\n",
    "timestring = f\"Precipitation mean (fire duration {firedate['idateMstr']} to {firedate['fdateMstr']})  \";\n",
    "precipFireMeanTime.plot( #plot mean over time\n",
    "    ax=axis,\n",
    "    x=\"longitude\",\n",
    "    y=\"latitude\",\n",
    "    transform=crs,\n",
    "    cmap=\"magma\",\n",
    "    robust=True,\n",
    ")\n",
    "axis.set_extent(angolaextent,crs = crs)\n",
    "axis.coastlines()\n",
    "axis.set_title(timestring)\n",
    "axis.gridlines(draw_labels=True, crs = crs)\n",
    "axis.add_feature(cfeature.BORDERS, edgecolor='red')\n",
    "plt.savefig('figures/precipitationSquare.svg')"
   ]
  },
  {
   "cell_type": "markdown",
   "id": "6dfa59da-f643-4721-b48d-32869f13d425",
   "metadata": {
    "tags": []
   },
   "source": [
    "## Temperature ERA"
   ]
  },
  {
   "cell_type": "markdown",
   "id": "ba4c32e3-d0d5-4613-bc13-5b3382ad20d6",
   "metadata": {},
   "source": [
    "### plot temperature for one fire"
   ]
  },
  {
   "cell_type": "code",
   "execution_count": null,
   "id": "baeea364-421b-4c65-9744-e056d6a95ca2",
   "metadata": {
    "tags": []
   },
   "outputs": [],
   "source": [
    "_, CTempFireMeanTime = get_fire_temperature(CTemp,rect,firedate)\n",
    "\n",
    "crs = ccrs.PlateCarree()\n",
    "fig, axs = plt.subplots(\n",
    "    ncols=1, nrows=1, figsize=[12, 6], subplot_kw={\"projection\": crs}\n",
    ")\n",
    "CTempFireMeanTime.plot( #.mean(dim=\"time\") #plot mean over time\n",
    "    ax=axs,\n",
    "    x=\"longitude\",\n",
    "    y=\"latitude\",\n",
    "    transform=crs,\n",
    "    cmap=\"magma\",\n",
    "    robust=True\n",
    ")\n",
    "timestring = f\"Temperature mean (fire duration {firedate['idateMstr']} to {firedate['fdateMstr']})\";\n",
    "axs.set_extent(angolaextent,crs = crs)\n",
    "axs.coastlines()\n",
    "axs.set_title(timestring)\n",
    "axis.gridlines(draw_labels=True, crs = crs)\n",
    "axs.add_feature(cfeature.BORDERS, edgecolor='red')"
   ]
  },
  {
   "cell_type": "markdown",
   "id": "ade310d9-1c4c-4f4a-856f-5ec4a0f36438",
   "metadata": {},
   "source": [
    "# NDVI MODIS"
   ]
  },
  {
   "cell_type": "code",
   "execution_count": null,
   "id": "20721f98-8bab-436b-b53c-74a5456f260a",
   "metadata": {
    "tags": []
   },
   "outputs": [],
   "source": [
    "import random\n",
    "import numpy as np\n",
    "import matplotlib.pyplot as plt\n",
    "import pandas as pd\n",
    "import geopandas as gpd\n",
    "import os\n",
    "import matplotlib\n",
    "from osgeo import gdal\n",
    "import rioxarray as rxr\n",
    "import xarray as xr\n",
    "from datetime import datetime, timedelta"
   ]
  },
  {
   "cell_type": "code",
   "execution_count": null,
   "id": "74591cb7-3563-4c38-9319-45ce9886b2bf",
   "metadata": {
    "jupyter": {
     "source_hidden": true
    },
    "tags": []
   },
   "outputs": [],
   "source": [
    "#ChatGPT4\n",
    "def extract_date_from_filename(filename):\n",
    "    # Split the filename and extract the part with the date\n",
    "    date_str = filename.split('.')[1]  # 'A2020353' in your example\n",
    "\n",
    "    # Extract the year and the day of the year\n",
    "    year = int(date_str[1:5])  # '2020' in your example\n",
    "    day_of_year = int(date_str[5:])  # '353' in your example\n",
    "\n",
    "    # Convert to a date\n",
    "    date = datetime(year, 1, 1) + timedelta(days=day_of_year - 1)\n",
    "\n",
    "    return date.strftime('%Y-%m-%d')\n",
    "\n",
    "# Example usage\n",
    "#filename = 'MOD09A1.A2020001.h19v09.061.2020324110240.hdf'\n",
    "#print(extract_date_from_filename(filename))  # Output: '2020-12-18'\n"
   ]
  },
  {
   "cell_type": "code",
   "execution_count": null,
   "id": "2feb1ad3-d23c-4522-83da-b820ed44eab1",
   "metadata": {
    "tags": []
   },
   "outputs": [],
   "source": [
    "filenames = ['MOD09A1.A2020001.h19v09.061.2020324110240.hdf','MOD09A1.A2020009.h19v09.061.2020326083028.hdf',\n",
    "'MOD09A1.A2020017.h19v09.061.2020328150953.hdf','MOD09A1.A2020025.h19v09.061.2020328182654.hdf',\n",
    "'MOD09A1.A2020033.h19v09.061.2020329022052.hdf','MOD09A1.A2020041.h19v09.061.2020329105652.hdf',\n",
    "'MOD09A1.A2020049.h19v09.061.2020335034956.hdf','MOD09A1.A2020057.h19v09.061.2020335045254.hdf',\n",
    "'MOD09A1.A2020065.h19v09.061.2020330102458.hdf','MOD09A1.A2020073.h19v09.061.2020330201948.hdf',\n",
    "'MOD09A1.A2020081.h19v09.061.2020331132917.hdf','MOD09A1.A2020089.h19v09.061.2020335062149.hdf',\n",
    "'MOD09A1.A2020097.h19v09.061.2020332133649.hdf','MOD09A1.A2020105.h19v09.061.2020332144730.hdf',\n",
    "'MOD09A1.A2020113.h19v09.061.2020333054255.hdf','MOD09A1.A2020121.h19v09.061.2020333100613.hdf',\n",
    "'MOD09A1.A2020129.h19v09.061.2020334142930.hdf','MOD09A1.A2020137.h19v09.061.2020335005033.hdf',\n",
    "'MOD09A1.A2020145.h19v09.061.2020335093624.hdf','MOD09A1.A2020153.h19v09.061.2020336020656.hdf',\n",
    "'MOD09A1.A2020161.h19v09.061.2020336133433.hdf','MOD09A1.A2020169.h19v09.061.2020336203227.hdf',\n",
    "'MOD09A1.A2020177.h19v09.061.2020340130036.hdf','MOD09A1.A2020185.h19v09.061.2020340145230.hdf',\n",
    "'MOD09A1.A2020193.h19v09.061.2020340161042.hdf','MOD09A1.A2020201.h19v09.061.2020340173059.hdf',\n",
    "'MOD09A1.A2020209.h19v09.061.2020341064720.hdf','MOD09A1.A2020217.h19v09.061.2020342044732.hdf',\n",
    "'MOD09A1.A2020225.h19v09.061.2020343012632.hdf','MOD09A1.A2020233.h19v09.061.2020344232309.hdf',\n",
    "'MOD09A1.A2020241.h19v09.061.2020345162625.hdf','MOD09A1.A2020249.h19v09.061.2020346143213.hdf',\n",
    "'MOD09A1.A2020257.h19v09.061.2020347014143.hdf','MOD09A1.A2020265.h19v09.061.2020347103225.hdf',\n",
    "'MOD09A1.A2020273.h19v09.061.2020350000613.hdf','MOD09A1.A2020281.h19v09.061.2020348055523.hdf',\n",
    "'MOD09A1.A2020289.h19v09.061.2020349214809.hdf','MOD09A1.A2020297.h19v09.061.2020353000648.hdf',\n",
    "'MOD09A1.A2020305.h19v09.061.2020353065147.hdf','MOD09A1.A2020313.h19v09.061.2020353135617.hdf',\n",
    "'MOD09A1.A2020321.h19v09.061.2020354002727.hdf','MOD09A1.A2020329.h19v09.061.2020357074335.hdf',\n",
    "'MOD09A1.A2020337.h19v09.061.2020363141001.hdf','MOD09A1.A2020345.h19v09.061.2021011215413.hdf',\n",
    "'MOD09A1.A2020353.h19v09.061.2021006075202.hdf','MOD09A1.A2020361.h19v09.061.2021012071524.hdf'\n",
    "]\n",
    "modis_dir=\"/home/jovyan/shared-public/Jintasaurus_Skip_Energico/modis_images/\"\n",
    "ff = modis_dir + filenames[0]\n",
    "ds  = rxr.open_rasterio(ff,  masked = True)\n",
    "ds"
   ]
  },
  {
   "cell_type": "code",
   "execution_count": null,
   "id": "ec9b3723-a7e0-4e14-acdd-c60de41af31f",
   "metadata": {
    "tags": []
   },
   "outputs": [],
   "source": [
    "#create combined MODIS Dataset from all 46 2020 files\n",
    "#this script always crashes the server, without saving the whole dataset, it is probably too large\n",
    "datasets = []\n",
    "for filename in filenames:    \n",
    "    # Read the file into a Dataset\n",
    "    ff = os.path.expanduser(\"~/shared-public/Jintasaurus_Skip_Energico/modis_images/\" + filename)\n",
    "    try:\n",
    "        ds  = rxr.open_rasterio(ff,  masked = True)\n",
    "        #display(ds)\n",
    "        #break\n",
    "    except:\n",
    "        print(\"An exception for \" + filename)    \n",
    "    else:\n",
    "        print(\"OK: \" + filename) \n",
    "        date = pd.Timestamp(extract_date_from_filename(filename))    \n",
    "        # Assign the 'Date' coordinate\n",
    "        ds = ds.assign_coords(date=date)\n",
    "        datasets.append(ds)\n",
    "        \n",
    "## Concatenate all datasets along the 'Date' dimension\n",
    "#combined_ds = xr.concat(datasets, dim='date')\n",
    "#print(\"Combined\")  \n",
    "## Save the Dataset to a NetCDF file\n",
    "#combined_ds.to_netcdf('MODIS2020.nc')\n",
    "#print(\"Saved MODIS2020.nc\")   \n",
    "#combined_ds\n"
   ]
  },
  {
   "cell_type": "code",
   "execution_count": null,
   "id": "e6a992a0-0254-4c71-a168-9a9bc4ab7629",
   "metadata": {
    "tags": []
   },
   "outputs": [],
   "source": [
    "modis_dir=\"/home/jovyan/shared-public/Jintasaurus_Skip_Energico/modis_images/modis_10/\"\n",
    "\n",
    "for filename in os.listdir(modis_dir):\n",
    "    ff = os.path.join(modis_dir, filename)\n",
    "    if os.path.isfile(ff):\n",
    "        try:\n",
    "            ds  = rxr.open_rasterio(ff,  masked = True)\n",
    "        except:\n",
    "            print(\"An exception for \" + filename)    \n",
    "        else:\n",
    "            print(\"OK: \" + filename) \n",
    "            date = pd.Timestamp(extract_date_from_filename(filename))    \n",
    "            # Assign the 'Date' coordinate\n",
    "            ds = ds.assign_coords(date=date)\n",
    "            datasets.append(ds)"
   ]
  },
  {
   "cell_type": "code",
   "execution_count": null,
   "id": "9a763397-76e3-456c-b121-c470cb4b9875",
   "metadata": {
    "tags": []
   },
   "outputs": [],
   "source": [
    "# Load the Dataset from the NetCDF file\n",
    "combined_ds = xr.open_dataset('MODIS2020.nc')\n",
    "combined_ds.sel(date='2020-02-07', method='nearest', tolerance=timedelta(days=7))"
   ]
  }
 ],
 "metadata": {
  "kernelspec": {
   "display_name": "Python 3 (ipykernel)",
   "language": "python",
   "name": "python3"
  },
  "language_info": {
   "codemirror_mode": {
    "name": "ipython",
    "version": 3
   },
   "file_extension": ".py",
   "mimetype": "text/x-python",
   "name": "python",
   "nbconvert_exporter": "python",
   "pygments_lexer": "ipython3",
   "version": "3.10.12"
  }
 },
 "nbformat": 4,
 "nbformat_minor": 5
}
